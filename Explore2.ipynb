{
 "cells": [
  {
   "cell_type": "code",
   "execution_count": 1,
   "metadata": {},
   "outputs": [],
   "source": [
    "from pyspark import SparkConf, SparkContext\n",
    "from pyspark.sql import SQLContext\n",
    "import pyspark\n",
    "\n",
    "conf = SparkConf().setAppName(\"building a warehouse\")\n",
    "sc = SparkContext(conf=conf)\n",
    "\n",
    "sqlContext = SQLContext(sc)"
   ]
  },
  {
   "cell_type": "code",
   "execution_count": 21,
   "metadata": {},
   "outputs": [],
   "source": [
    "import os \n",
    "yelp_dir=\"/media/diego/QData/datasets/yelp\"\n",
    "business_file = os.path.join(yelp_dir, 'business.json')\n",
    "checkin_file = os.path.join(yelp_dir, 'checkin.json')\n",
    "review_file = os.path.join(yelp_dir, 'review.json')\n",
    "tip_file = os.path.join(yelp_dir, 'tip.json')\n",
    "user_file = os.path.join(yelp_dir, 'user.json')\n"
   ]
  },
  {
   "cell_type": "code",
   "execution_count": 22,
   "metadata": {},
   "outputs": [],
   "source": [
    "df_business = sqlContext.read.json(business_file)\n",
    "df_checkin = sqlContext.read.json(checkin_file)\n",
    "df_review = sqlContext.read.json(review_file)\n",
    "df_tip = sqlContext.read.json(tip_file)\n",
    "df_user = sqlContext.read.json(user_file)"
   ]
  },
  {
   "cell_type": "code",
   "execution_count": 25,
   "metadata": {},
   "outputs": [],
   "source": [
    "df_business_count = df_business.count()\n",
    "df_checkin_count = df_checkin.count()\n",
    "df_review_count = df_review.count()\n",
    "df_tip_count = df_tip.count()\n",
    "df_user_count = df_user.count()"
   ]
  },
  {
   "cell_type": "code",
   "execution_count": 27,
   "metadata": {},
   "outputs": [
    {
     "name": "stdout",
     "output_type": "stream",
     "text": [
      "192609 businesses, 161950 checkins,  6685900 reviews, 1223094 tips, 1637138 users\n"
     ]
    }
   ],
   "source": [
    "print(f'{df_business_count} businesses, {df_checkin_count} checkins,  {df_review_count} reviews, {df_tip_count} tips, {df_user_count} users')\n",
    "\n"
   ]
  },
  {
   "cell_type": "code",
   "execution_count": 31,
   "metadata": {},
   "outputs": [],
   "source": [
    "import pyspark.sql.functions as sf\n",
    "\n",
    "df_business_cities=df_business.groupBy('city').agg(sf.count('business_id').alias('city_business')).sort(sf.desc('city_business'))"
   ]
  },
  {
   "cell_type": "code",
   "execution_count": 45,
   "metadata": {},
   "outputs": [
    {
     "data": {
      "text/plain": [
       "[Row(city='Las Vegas', city_business=29370),\n",
       " Row(city='Toronto', city_business=18906),\n",
       " Row(city='Phoenix', city_business=18766),\n",
       " Row(city='Charlotte', city_business=9509),\n",
       " Row(city='Scottsdale', city_business=8837),\n",
       " Row(city='Calgary', city_business=7736),\n",
       " Row(city='Pittsburgh', city_business=7017),\n",
       " Row(city='Montréal', city_business=6449),\n",
       " Row(city='Mesa', city_business=6080),\n",
       " Row(city='Henderson', city_business=4892),\n",
       " Row(city='Tempe', city_business=4550),\n",
       " Row(city='Chandler', city_business=4309),\n",
       " Row(city='Cleveland', city_business=3605),\n",
       " Row(city='Glendale', city_business=3543),\n",
       " Row(city='Madison', city_business=3494),\n",
       " Row(city='Gilbert', city_business=3462),\n",
       " Row(city='Mississauga', city_business=3112),\n",
       " Row(city='Peoria', city_business=1919),\n",
       " Row(city='Markham', city_business=1766),\n",
       " Row(city='North Las Vegas', city_business=1548),\n",
       " Row(city='Champaign', city_business=1262),\n",
       " Row(city='North York', city_business=1205),\n",
       " Row(city='Surprise', city_business=1148),\n",
       " Row(city='Scarborough', city_business=1103),\n",
       " Row(city='Richmond Hill', city_business=1026),\n",
       " Row(city='Brampton', city_business=1002),\n",
       " Row(city='Concord', city_business=990),\n",
       " Row(city='Vaughan', city_business=919),\n",
       " Row(city='Goodyear', city_business=855),\n",
       " Row(city='Etobicoke', city_business=793),\n",
       " Row(city='Matthews', city_business=749),\n",
       " Row(city='Avondale', city_business=681),\n",
       " Row(city='Fort Mill', city_business=627),\n",
       " Row(city='Huntersville', city_business=625),\n",
       " Row(city='Lakewood', city_business=519),\n",
       " Row(city='Gastonia', city_business=480),\n",
       " Row(city='Cornelius', city_business=474),\n",
       " Row(city='Mentor', city_business=472),\n",
       " Row(city='Akron', city_business=465),\n",
       " Row(city='Urbana', city_business=411),\n",
       " Row(city='Cave Creek', city_business=402),\n",
       " Row(city='Monroeville', city_business=400),\n",
       " Row(city='Thornhill', city_business=396),\n",
       " Row(city='North Olmsted', city_business=396),\n",
       " Row(city='Laval', city_business=394),\n",
       " Row(city='Westlake', city_business=389),\n",
       " Row(city='Strongsville', city_business=379),\n",
       " Row(city='Oakville', city_business=362),\n",
       " Row(city='Middleton', city_business=360),\n",
       " Row(city='Aurora', city_business=356),\n",
       " Row(city='Cuyahoga Falls', city_business=354),\n",
       " Row(city='Newmarket', city_business=352),\n",
       " Row(city='Pineville', city_business=349),\n",
       " Row(city='Medina', city_business=348),\n",
       " Row(city='Fountain Hills', city_business=345),\n",
       " Row(city='Pickering', city_business=326),\n",
       " Row(city='Rock Hill', city_business=311),\n",
       " Row(city='Ajax', city_business=303),\n",
       " Row(city='Indian Trail', city_business=301),\n",
       " Row(city='Parma', city_business=290),\n",
       " Row(city='Beachwood', city_business=289),\n",
       " Row(city='Wexford', city_business=280),\n",
       " Row(city='Whitby', city_business=276),\n",
       " Row(city='Boulder City', city_business=269),\n",
       " Row(city='Sun City', city_business=258),\n",
       " Row(city='Willoughby', city_business=257),\n",
       " Row(city='Kent', city_business=254),\n",
       " Row(city='Sun Prairie', city_business=246),\n",
       " Row(city='Rocky River', city_business=245),\n",
       " Row(city='Woodbridge', city_business=241),\n",
       " Row(city='Stow', city_business=234),\n",
       " Row(city='Avon', city_business=230),\n",
       " Row(city='Litchfield Park', city_business=222),\n",
       " Row(city='Cleveland Heights', city_business=212),\n",
       " Row(city='Solon', city_business=212),\n",
       " Row(city='Elyria', city_business=208),\n",
       " Row(city='Hudson', city_business=203),\n",
       " Row(city='Fitchburg', city_business=201),\n",
       " Row(city='Bethel Park', city_business=200),\n",
       " Row(city='Verona', city_business=198),\n",
       " Row(city='Chagrin Falls', city_business=196),\n",
       " Row(city='Bridgeville', city_business=191),\n",
       " Row(city='Brossard', city_business=177),\n",
       " Row(city='Brunswick', city_business=176),\n",
       " Row(city='Monroe', city_business=175),\n",
       " Row(city='Coraopolis', city_business=170),\n",
       " Row(city='Waxhaw', city_business=170),\n",
       " Row(city='Airdrie', city_business=168),\n",
       " Row(city='Canonsburg', city_business=163),\n",
       " Row(city='Mayfield Heights', city_business=162),\n",
       " Row(city='East York', city_business=161),\n",
       " Row(city='Belmont', city_business=160),\n",
       " Row(city='North Royalton', city_business=157),\n",
       " Row(city='Fairlawn', city_business=157),\n",
       " Row(city='Montreal', city_business=153),\n",
       " Row(city='Verdun', city_business=153),\n",
       " Row(city='Tolleson', city_business=147),\n",
       " Row(city='West Mifflin', city_business=145),\n",
       " Row(city='Independence', city_business=143),\n",
       " Row(city='Middleburg Heights', city_business=139)]"
      ]
     },
     "execution_count": 45,
     "metadata": {},
     "output_type": "execute_result"
    }
   ],
   "source": [
    "df_business_cities.head(100)"
   ]
  },
  {
   "cell_type": "code",
   "execution_count": 40,
   "metadata": {},
   "outputs": [],
   "source": []
  },
  {
   "cell_type": "code",
   "execution_count": 42,
   "metadata": {},
   "outputs": [],
   "source": [
    "from pyspark.sql.functions import min, max, col\n",
    "# init your spark dataframe\n",
    "\n",
    "expr = [min(col(\"latitude\")),max(col(\"latitude\")),min(col(\"longitude\")),max(col(\"longitude\"))]\n",
    "df_business_city_locations = df_business.groupBy('city').agg(*expr)"
   ]
  },
  {
   "cell_type": "code",
   "execution_count": 47,
   "metadata": {},
   "outputs": [],
   "source": [
    "df_business_locations = df_business_cities.join(df_business_city_locations, df_business_cities.city == df_business_city_locations.city).sort(sf.desc('city_business'))"
   ]
  },
  {
   "cell_type": "code",
   "execution_count": 48,
   "metadata": {},
   "outputs": [
    {
     "data": {
      "text/plain": [
       "[Row(city='Las Vegas', city_business=29370, city='Las Vegas', min(latitude)=35.9208835, max(latitude)=36.4382486207, min(longitude)=-115.4934712422, max(longitude)=-114.8875063285),\n",
       " Row(city='Toronto', city_business=18906, city='Toronto', min(latitude)=43.5603651, max(latitude)=43.8819420199, min(longitude)=-79.71393, max(longitude)=-79.019777165),\n",
       " Row(city='Phoenix', city_business=18766, city='Phoenix', min(latitude)=33.2562021195, max(latitude)=33.8484161, min(longitude)=-112.4410671, max(longitude)=-111.709554),\n",
       " Row(city='Charlotte', city_business=9509, city='Charlotte', min(latitude)=34.9274555, max(latitude)=35.4874459, min(longitude)=-81.036336, max(longitude)=-80.5216184),\n",
       " Row(city='Scottsdale', city_business=8837, city='Scottsdale', min(latitude)=33.2344417, max(latitude)=33.826752, min(longitude)=-112.3883099219, max(longitude)=-111.6828434127),\n",
       " Row(city='Calgary', city_business=7736, city='Calgary', min(latitude)=50.8640795, max(latitude)=51.20754, min(longitude)=-114.3564361, max(longitude)=-113.71414),\n",
       " Row(city='Pittsburgh', city_business=7017, city='Pittsburgh', min(latitude)=40.2658153, max(latitude)=43.6824667278, min(longitude)=-80.2598305, max(longitude)=-79.4751869996),\n",
       " Row(city='Montréal', city_business=6449, city='Montréal', min(latitude)=45.3927622, max(latitude)=45.6922868, min(longitude)=-73.9499835, max(longitude)=-73.4972005),\n",
       " Row(city='Mesa', city_business=6080, city='Mesa', min(latitude)=33.2411712931, max(latitude)=33.7096471, min(longitude)=-112.1867177, max(longitude)=-111.6003941),\n",
       " Row(city='Henderson', city_business=4892, city='Henderson', min(latitude)=35.9208835, max(latitude)=36.37, min(longitude)=-115.3636705147, max(longitude)=-114.88),\n",
       " Row(city='Tempe', city_business=4550, city='Tempe', min(latitude)=33.2872209, max(latitude)=33.627188126, min(longitude)=-112.3477461, max(longitude)=-111.747802645),\n",
       " Row(city='Chandler', city_business=4309, city='Chandler', min(latitude)=33.204642003, max(latitude)=33.6272938, min(longitude)=-112.0893682, max(longitude)=-111.677647),\n",
       " Row(city='Cleveland', city_business=3605, city='Cleveland', min(latitude)=33.535674, max(latitude)=41.7091552, min(longitude)=-112.266674, max(longitude)=-81.2817894),\n",
       " Row(city='Glendale', city_business=3543, city='Glendale', min(latitude)=33.394464, max(latitude)=33.8000078, min(longitude)=-112.496879, max(longitude)=-111.857836),\n",
       " Row(city='Madison', city_business=3494, city='Madison', min(latitude)=41.7228930268, max(latitude)=43.2001228, min(longitude)=-89.563016, max(longitude)=-81.104833),\n",
       " Row(city='Gilbert', city_business=3462, city='Gilbert', min(latitude)=33.205767, max(latitude)=33.6963454, min(longitude)=-112.0995284244, max(longitude)=-111.642224),\n",
       " Row(city='Mississauga', city_business=3112, city='Mississauga', min(latitude)=43.4974676, max(latitude)=43.8444320987, min(longitude)=-79.79007, max(longitude)=-79.3868637085),\n",
       " Row(city='Peoria', city_business=1919, city='Peoria', min(latitude)=33.3958772, max(latitude)=33.848411824, min(longitude)=-112.3956261493, max(longitude)=-111.954623),\n",
       " Row(city='Markham', city_business=1766, city='Markham', min(latitude)=43.764552, max(latitude)=43.957034, min(longitude)=-79.6047795, max(longitude)=-79.1811008),\n",
       " Row(city='North Las Vegas', city_business=1548, city='North Las Vegas', min(latitude)=36.092697, max(latitude)=36.3524199003, min(longitude)=-115.3036, max(longitude)=-115.0261054163),\n",
       " Row(city='Champaign', city_business=1262, city='Champaign', min(latitude)=40.026186, max(latitude)=40.3191829, min(longitude)=-88.421424, max(longitude)=-88.197115),\n",
       " Row(city='North York', city_business=1205, city='North York', min(latitude)=43.6547637, max(latitude)=43.813547, min(longitude)=-79.5703868608, max(longitude)=-79.3022935),\n",
       " Row(city='Surprise', city_business=1148, city='Surprise', min(latitude)=33.5690908, max(latitude)=33.8395368, min(longitude)=-112.4649083, max(longitude)=-112.111731),\n",
       " Row(city='Scarborough', city_business=1103, city='Scarborough', min(latitude)=43.6808325, max(latitude)=43.845453, min(longitude)=-79.5080566406, max(longitude)=-79.1371155),\n",
       " Row(city='Richmond Hill', city_business=1026, city='Richmond Hill', min(latitude)=43.6994113, max(latitude)=43.967175, min(longitude)=-79.4832626, max(longitude)=-79.3370885354),\n",
       " Row(city='Brampton', city_business=1002, city='Brampton', min(latitude)=43.6111202, max(latitude)=43.7972478, min(longitude)=-79.9150724, max(longitude)=-79.3873826),\n",
       " Row(city='Concord', city_business=990, city='Concord', min(latitude)=35.2261484, max(latitude)=43.8401912, min(longitude)=-81.2828957, max(longitude)=-79.4544360554),\n",
       " Row(city='Vaughan', city_business=919, city='Vaughan', min(latitude)=43.6663975374, max(latitude)=43.896377, min(longitude)=-79.6873889309, max(longitude)=-79.382599441),\n",
       " Row(city='Goodyear', city_business=855, city='Goodyear', min(latitude)=33.3152392, max(latitude)=33.7272381505, min(longitude)=-112.485470463, max(longitude)=-111.8525713041),\n",
       " Row(city='Etobicoke', city_business=793, city='Etobicoke', min(latitude)=43.5888851, max(latitude)=43.759973, min(longitude)=-79.631949, max(longitude)=-79.3708267212),\n",
       " Row(city='Matthews', city_business=749, city='Matthews', min(latitude)=35.0001066, max(latitude)=35.174647, min(longitude)=-80.769524, max(longitude)=-80.5993854),\n",
       " Row(city='Avondale', city_business=681, city='Avondale', min(latitude)=33.374918, max(latitude)=33.6947443, min(longitude)=-112.3924311, max(longitude)=-112.0740373),\n",
       " Row(city='Fort Mill', city_business=627, city='Fort Mill', min(latitude)=34.9304811, max(latitude)=35.150262, min(longitude)=-81.0216101, max(longitude)=-80.8211708),\n",
       " Row(city='Huntersville', city_business=625, city='Huntersville', min(latitude)=35.3503059457, max(latitude)=35.4492092, min(longitude)=-80.945838, max(longitude)=-80.75989),\n",
       " Row(city='Lakewood', city_business=519, city='Lakewood', min(latitude)=41.3136644, max(latitude)=41.4944934, min(longitude)=-81.8916633, max(longitude)=-81.7245739),\n",
       " Row(city='Gastonia', city_business=480, city='Gastonia', min(latitude)=35.1716172, max(latitude)=35.3288502, min(longitude)=-81.19964, max(longitude)=-81.0600058),\n",
       " Row(city='Cornelius', city_business=474, city='Cornelius', min(latitude)=35.4442728, max(latitude)=35.494303, min(longitude)=-80.9359369, max(longitude)=-80.837884),\n",
       " Row(city='Mentor', city_business=472, city='Mentor', min(latitude)=41.637421, max(latitude)=41.7533085, min(longitude)=-81.3873718, max(longitude)=-81.274158),\n",
       " Row(city='Akron', city_business=465, city='Akron', min(latitude)=41.0500143, max(latitude)=41.4065659, min(longitude)=-81.7417171, max(longitude)=-81.464607),\n",
       " Row(city='Urbana', city_business=411, city='Urbana', min(latitude)=40.046842, max(latitude)=40.1794968, min(longitude)=-88.2601228997, max(longitude)=-88.124887),\n",
       " Row(city='Cave Creek', city_business=402, city='Cave Creek', min(latitude)=33.6050094, max(latitude)=33.843137, min(longitude)=-112.0259103, max(longitude)=-111.923563),\n",
       " Row(city='Monroeville', city_business=400, city='Monroeville', min(latitude)=40.3889223, max(latitude)=40.4586824, min(longitude)=-79.8094725, max(longitude)=-79.7056081),\n",
       " Row(city='Thornhill', city_business=396, city='Thornhill', min(latitude)=43.784232, max(latitude)=43.8563163079, min(longitude)=-79.4829503, max(longitude)=-79.3574130535),\n",
       " Row(city='North Olmsted', city_business=396, city='North Olmsted', min(latitude)=41.3898058, max(latitude)=41.5032926, min(longitude)=-81.9899878, max(longitude)=-81.5012444),\n",
       " Row(city='Laval', city_business=394, city='Laval', min(latitude)=45.519632, max(latitude)=45.6484076, min(longitude)=-73.8698281, max(longitude)=-73.6447861),\n",
       " Row(city='Westlake', city_business=389, city='Westlake', min(latitude)=41.40805, max(latitude)=41.4774597699, min(longitude)=-82.075242, max(longitude)=-81.796310842),\n",
       " Row(city='Strongsville', city_business=379, city='Strongsville', min(latitude)=41.2768321329, max(latitude)=41.3498627, min(longitude)=-81.87747, max(longitude)=-81.78479),\n",
       " Row(city='Oakville', city_business=362, city='Oakville', min(latitude)=43.4500823, max(latitude)=43.5208054542, min(longitude)=-79.7492840798, max(longitude)=-79.6305379),\n",
       " Row(city='Middleton', city_business=360, city='Middleton', min(latitude)=43.01476, max(latitude)=43.1407496, min(longitude)=-89.582804, max(longitude)=-89.4515516076),\n",
       " Row(city='Aurora', city_business=356, city='Aurora', min(latitude)=41.2850281, max(latitude)=44.0268944479, min(longitude)=-81.3906830549, max(longitude)=-79.4079526248),\n",
       " Row(city='Cuyahoga Falls', city_business=354, city='Cuyahoga Falls', min(latitude)=41.1166992, max(latitude)=41.1915444854, min(longitude)=-81.5626926797, max(longitude)=-81.4554837616),\n",
       " Row(city='Newmarket', city_business=352, city='Newmarket', min(latitude)=43.7972177, max(latitude)=44.08019, min(longitude)=-79.5596489249, max(longitude)=-79.3683187),\n",
       " Row(city='Pineville', city_business=349, city='Pineville', min(latitude)=35.0439801, max(latitude)=35.2471462518, min(longitude)=-80.9156755, max(longitude)=-80.822850675),\n",
       " Row(city='Medina', city_business=348, city='Medina', min(latitude)=41.0581734, max(latitude)=41.21882678, min(longitude)=-81.9514145, max(longitude)=-81.6929146337),\n",
       " Row(city='Fountain Hills', city_business=345, city='Fountain Hills', min(latitude)=33.5682683764, max(latitude)=33.744792, min(longitude)=-111.9558585, max(longitude)=-111.6861813594),\n",
       " Row(city='Pickering', city_business=326, city='Pickering', min(latitude)=43.808275, max(latitude)=43.9644199, min(longitude)=-79.1596153, max(longitude)=-79.0243470669),\n",
       " Row(city='Rock Hill', city_business=311, city='Rock Hill', min(latitude)=34.9193967, max(latitude)=35.023492, min(longitude)=-81.0730078, max(longitude)=-80.9271089),\n",
       " Row(city='Ajax', city_business=303, city='Ajax', min(latitude)=43.8286823, max(latitude)=43.913262, min(longitude)=-79.0696083, max(longitude)=-78.9795733),\n",
       " Row(city='Indian Trail', city_business=301, city='Indian Trail', min(latitude)=35.01648, max(latitude)=35.2413572, min(longitude)=-80.8498354, max(longitude)=-80.50134),\n",
       " Row(city='Parma', city_business=290, city='Parma', min(latitude)=41.3510657, max(latitude)=41.4233034, min(longitude)=-81.8077345, max(longitude)=-81.6846017),\n",
       " Row(city='Beachwood', city_business=289, city='Beachwood', min(latitude)=41.396934, max(latitude)=41.502521, min(longitude)=-81.647435, max(longitude)=-81.470127),\n",
       " Row(city='Wexford', city_business=280, city='Wexford', min(latitude)=40.5503369353, max(latitude)=40.6494269, min(longitude)=-80.0943365, max(longitude)=-80.018251),\n",
       " Row(city='Whitby', city_business=276, city='Whitby', min(latitude)=43.6599240748, max(latitude)=43.996892, min(longitude)=-79.3981933594, max(longitude)=-78.9000769705),\n",
       " Row(city='Boulder City', city_business=269, city='Boulder City', min(latitude)=35.9486579, max(latitude)=36.1196731352, min(longitude)=-115.1735562086, max(longitude)=-114.8008735231),\n",
       " Row(city='Sun City', city_business=258, city='Sun City', min(latitude)=33.565217, max(latitude)=33.69402, min(longitude)=-112.400871, max(longitude)=-112.170102),\n",
       " Row(city='Willoughby', city_business=257, city='Willoughby', min(latitude)=41.576467, max(latitude)=41.6981208, min(longitude)=-81.4552934, max(longitude)=-81.3084245),\n",
       " Row(city='Kent', city_business=254, city='Kent', min(latitude)=41.100078, max(latitude)=41.1950389, min(longitude)=-81.3976382, max(longitude)=-81.2981934),\n",
       " Row(city='Sun Prairie', city_business=246, city='Sun Prairie', min(latitude)=43.1107002, max(latitude)=43.2536056, min(longitude)=-89.6424388, max(longitude)=-89.1937331),\n",
       " Row(city='Rocky River', city_business=245, city='Rocky River', min(latitude)=41.4189463, max(latitude)=41.4869027, min(longitude)=-81.9018182, max(longitude)=-81.7399978638),\n",
       " Row(city='Woodbridge', city_business=241, city='Woodbridge', min(latitude)=43.7534394, max(latitude)=43.8540633004, min(longitude)=-79.6288110316, max(longitude)=-79.5412677),\n",
       " Row(city='Stow', city_business=234, city='Stow', min(latitude)=33.334728, max(latitude)=41.2029336, min(longitude)=-111.845737, max(longitude)=-81.3965888),\n",
       " Row(city='Avon', city_business=230, city='Avon', min(latitude)=41.4286413, max(latitude)=41.4782682, min(longitude)=-82.0651853, max(longitude)=-81.9698005),\n",
       " Row(city='Litchfield Park', city_business=222, city='Litchfield Park', min(latitude)=33.447637, max(latitude)=33.5514627187, min(longitude)=-112.4877479, max(longitude)=-112.0740373),\n",
       " Row(city='Cleveland Heights', city_business=212, city='Cleveland Heights', min(latitude)=41.4866916, max(latitude)=41.536581, min(longitude)=-81.59489, max(longitude)=-81.5323222),\n",
       " Row(city='Solon', city_business=212, city='Solon', min(latitude)=41.35711, max(latitude)=41.4994954, min(longitude)=-81.6954088, max(longitude)=-81.3933538646),\n",
       " Row(city='Elyria', city_business=208, city='Elyria', min(latitude)=41.3153616923, max(latitude)=41.4253019, min(longitude)=-82.217559, max(longitude)=-81.9808594),\n",
       " Row(city='Hudson', city_business=203, city='Hudson', min(latitude)=41.2029262, max(latitude)=45.4741337, min(longitude)=-81.503467, max(longitude)=-74.108763),\n",
       " Row(city='Fitchburg', city_business=201, city='Fitchburg', min(latitude)=42.9542646, max(latitude)=43.201896, min(longitude)=-89.5114513, max(longitude)=-89.3291557138),\n",
       " Row(city='Bethel Park', city_business=200, city='Bethel Park', min(latitude)=40.2930947, max(latitude)=40.3541155, min(longitude)=-80.06921, max(longitude)=-80.0015451),\n",
       " Row(city='Verona', city_business=198, city='Verona', min(latitude)=40.4663988, max(latitude)=43.0750329954, min(longitude)=-89.664955, max(longitude)=-79.7901177),\n",
       " Row(city='Chagrin Falls', city_business=196, city='Chagrin Falls', min(latitude)=41.3577136, max(latitude)=41.4630662, min(longitude)=-81.487269, max(longitude)=-81.215301),\n",
       " Row(city='Bridgeville', city_business=191, city='Bridgeville', min(latitude)=40.3167197, max(latitude)=40.454988, min(longitude)=-80.1559844057, max(longitude)=-80.022657),\n",
       " Row(city='Brossard', city_business=177, city='Brossard', min(latitude)=45.4345884, max(latitude)=45.7017431583, min(longitude)=-73.6425697988, max(longitude)=-73.4192124924),\n",
       " Row(city='Brunswick', city_business=176, city='Brunswick', min(latitude)=41.206132, max(latitude)=41.2751664, min(longitude)=-81.8781329691, max(longitude)=-81.7821198),\n",
       " Row(city='Monroe', city_business=175, city='Monroe', min(latitude)=34.952986, max(latitude)=35.138057, min(longitude)=-80.7236804, max(longitude)=-80.455196),\n",
       " Row(city='Coraopolis', city_business=170, city='Coraopolis', min(latitude)=40.4496017, max(latitude)=40.541485, min(longitude)=-80.256542, max(longitude)=-80.1063182),\n",
       " Row(city='Waxhaw', city_business=170, city='Waxhaw', min(latitude)=34.9166699, max(latitude)=35.018098, min(longitude)=-80.8269401, max(longitude)=-80.678025),\n",
       " Row(city='Airdrie', city_business=168, city='Airdrie', min(latitude)=51.2082411633, max(latitude)=51.2999426916, min(longitude)=-114.035382, max(longitude)=-113.9370517305),\n",
       " Row(city='Canonsburg', city_business=163, city='Canonsburg', min(latitude)=40.2385413, max(latitude)=40.3069231695, min(longitude)=-80.2047665, max(longitude)=-80.0812328),\n",
       " Row(city='Mayfield Heights', city_business=162, city='Mayfield Heights', min(latitude)=41.49828, max(latitude)=41.5290325, min(longitude)=-81.64374, max(longitude)=-81.4328610019),\n",
       " Row(city='East York', city_business=161, city='East York', min(latitude)=43.6817984, max(latitude)=43.8573997692, min(longitude)=-79.3777054, max(longitude)=-79.288906),\n",
       " Row(city='Belmont', city_business=160, city='Belmont', min(latitude)=35.1534115, max(latitude)=35.2815193061, min(longitude)=-81.0749913, max(longitude)=-81.0121192),\n",
       " Row(city='North Royalton', city_business=157, city='North Royalton', min(latitude)=41.2782741, max(latitude)=41.350754, min(longitude)=-81.7851236515, max(longitude)=-81.7149977),\n",
       " Row(city='Fairlawn', city_business=157, city='Fairlawn', min(latitude)=41.1044092215, max(latitude)=41.139516, min(longitude)=-81.655707, max(longitude)=-81.5993855),\n",
       " Row(city='Montreal', city_business=153, city='Montreal', min(latitude)=45.432283, max(latitude)=45.5858272, min(longitude)=-73.7881025, max(longitude)=-73.5331919),\n",
       " Row(city='Verdun', city_business=153, city='Verdun', min(latitude)=45.4406799, max(latitude)=45.4740342819, min(longitude)=-73.5796741, max(longitude)=-73.5378936098),\n",
       " Row(city='Tolleson', city_business=147, city='Tolleson', min(latitude)=33.276539, max(latitude)=33.4651277, min(longitude)=-112.2909476236, max(longitude)=-112.18717),\n",
       " Row(city='West Mifflin', city_business=145, city='West Mifflin', min(latitude)=40.3289489, max(latitude)=40.3931485, min(longitude)=-79.9594449, max(longitude)=-79.8585121),\n",
       " Row(city='Independence', city_business=143, city='Independence', min(latitude)=41.36096, max(latitude)=41.414835, min(longitude)=-81.683542, max(longitude)=-81.5927997),\n",
       " Row(city='Middleburg Heights', city_business=139, city='Middleburg Heights', min(latitude)=41.350952, max(latitude)=41.3890655, min(longitude)=-81.8423722, max(longitude)=-81.784637)]"
      ]
     },
     "execution_count": 48,
     "metadata": {},
     "output_type": "execute_result"
    }
   ],
   "source": [
    "df_business_locations.head(100)"
   ]
  },
  {
   "cell_type": "code",
   "execution_count": 88,
   "metadata": {},
   "outputs": [],
   "source": [
    "df_business_categories = df_business.select(\"categories\")"
   ]
  },
  {
   "cell_type": "code",
   "execution_count": 89,
   "metadata": {},
   "outputs": [
    {
     "data": {
      "text/plain": [
       "[Row(categories='Golf, Active Life'),\n",
       " Row(categories='Specialty Food, Restaurants, Dim Sum, Imported Food, Food, Chinese, Ethnic Food, Seafood'),\n",
       " Row(categories='Sushi Bars, Restaurants, Japanese'),\n",
       " Row(categories='Insurance, Financial Services'),\n",
       " Row(categories='Plumbing, Shopping, Local Services, Home Services, Kitchen & Bath, Home & Garden, Water Heater Installation/Repair'),\n",
       " Row(categories='Shipping Centers, Couriers & Delivery Services, Local Services, Printing Services'),\n",
       " Row(categories='Beauty & Spas, Hair Salons'),\n",
       " Row(categories=\"Hair Salons, Hair Stylists, Barbers, Men's Hair Salons, Cosmetics & Beauty Supply, Shopping, Beauty & Spas\"),\n",
       " Row(categories='Nail Salons, Beauty & Spas, Day Spas'),\n",
       " Row(categories='Beauty & Spas, Nail Salons, Day Spas, Massage')]"
      ]
     },
     "execution_count": 89,
     "metadata": {},
     "output_type": "execute_result"
    }
   ],
   "source": [
    "df_business_categories.head(10)"
   ]
  },
  {
   "cell_type": "code",
   "execution_count": 90,
   "metadata": {},
   "outputs": [],
   "source": [
    "from pyspark.sql.functions import split, ltrim"
   ]
  },
  {
   "cell_type": "code",
   "execution_count": 91,
   "metadata": {},
   "outputs": [],
   "source": [
    "split_categories = split(df_business_categories['categories'], ',')"
   ]
  },
  {
   "cell_type": "code",
   "execution_count": 99,
   "metadata": {},
   "outputs": [],
   "source": [
    "df_split_categories = df_business_categories.select(split_categories).withColumnRenamed('split(categories, ,)','split_categories')"
   ]
  },
  {
   "cell_type": "code",
   "execution_count": 100,
   "metadata": {},
   "outputs": [
    {
     "data": {
      "text/plain": [
       "Row(split_categories=['Golf', ' Active Life'])"
      ]
     },
     "execution_count": 100,
     "metadata": {},
     "output_type": "execute_result"
    }
   ],
   "source": [
    "df_split_categories.head()"
   ]
  },
  {
   "cell_type": "code",
   "execution_count": 101,
   "metadata": {},
   "outputs": [
    {
     "data": {
      "text/plain": [
       "['split_categories']"
      ]
     },
     "execution_count": 101,
     "metadata": {},
     "output_type": "execute_result"
    }
   ],
   "source": [
    "df_split_categories.columns"
   ]
  },
  {
   "cell_type": "code",
   "execution_count": 85,
   "metadata": {},
   "outputs": [],
   "source": [
    "from pyspark.sql.functions import explode"
   ]
  },
  {
   "cell_type": "code",
   "execution_count": 114,
   "metadata": {},
   "outputs": [
    {
     "data": {
      "text/plain": [
       "[Row(col='Golf'),\n",
       " Row(col=' Active Life'),\n",
       " Row(col='Specialty Food'),\n",
       " Row(col=' Restaurants'),\n",
       " Row(col=' Dim Sum'),\n",
       " Row(col=' Imported Food'),\n",
       " Row(col=' Food'),\n",
       " Row(col=' Chinese'),\n",
       " Row(col=' Ethnic Food'),\n",
       " Row(col=' Seafood')]"
      ]
     },
     "execution_count": 114,
     "metadata": {},
     "output_type": "execute_result"
    }
   ],
   "source": [
    "df_split_categories.select(explode('split_categories'))"
   ]
  },
  {
   "cell_type": "code",
   "execution_count": 117,
   "metadata": {},
   "outputs": [],
   "source": [
    "df_exploded_categories = df_split_categories.select(explode('split_categories'))"
   ]
  },
  {
   "cell_type": "code",
   "execution_count": 118,
   "metadata": {},
   "outputs": [
    {
     "data": {
      "text/plain": [
       "[Row(col='Golf'),\n",
       " Row(col=' Active Life'),\n",
       " Row(col='Specialty Food'),\n",
       " Row(col=' Restaurants'),\n",
       " Row(col=' Dim Sum'),\n",
       " Row(col=' Imported Food'),\n",
       " Row(col=' Food'),\n",
       " Row(col=' Chinese'),\n",
       " Row(col=' Ethnic Food'),\n",
       " Row(col=' Seafood')]"
      ]
     },
     "execution_count": 118,
     "metadata": {},
     "output_type": "execute_result"
    }
   ],
   "source": [
    "df_exploded_categories.head(10)"
   ]
  },
  {
   "cell_type": "code",
   "execution_count": 119,
   "metadata": {},
   "outputs": [
    {
     "data": {
      "text/plain": [
       "['col']"
      ]
     },
     "execution_count": 119,
     "metadata": {},
     "output_type": "execute_result"
    }
   ],
   "source": [
    "df_exploded_categories.columns"
   ]
  },
  {
   "cell_type": "code",
   "execution_count": 127,
   "metadata": {},
   "outputs": [],
   "source": [
    "df_expl_strip_cats = df_exploded_categories.withColumn(\"coll\",ltrim(col(\"col\")))"
   ]
  },
  {
   "cell_type": "code",
   "execution_count": 128,
   "metadata": {},
   "outputs": [
    {
     "data": {
      "text/plain": [
       "[Row(col='Golf', coll='Golf'),\n",
       " Row(col=' Active Life', coll='Active Life'),\n",
       " Row(col='Specialty Food', coll='Specialty Food'),\n",
       " Row(col=' Restaurants', coll='Restaurants'),\n",
       " Row(col=' Dim Sum', coll='Dim Sum'),\n",
       " Row(col=' Imported Food', coll='Imported Food'),\n",
       " Row(col=' Food', coll='Food'),\n",
       " Row(col=' Chinese', coll='Chinese'),\n",
       " Row(col=' Ethnic Food', coll='Ethnic Food'),\n",
       " Row(col=' Seafood', coll='Seafood'),\n",
       " Row(col='Sushi Bars', coll='Sushi Bars'),\n",
       " Row(col=' Restaurants', coll='Restaurants'),\n",
       " Row(col=' Japanese', coll='Japanese'),\n",
       " Row(col='Insurance', coll='Insurance'),\n",
       " Row(col=' Financial Services', coll='Financial Services'),\n",
       " Row(col='Plumbing', coll='Plumbing'),\n",
       " Row(col=' Shopping', coll='Shopping'),\n",
       " Row(col=' Local Services', coll='Local Services'),\n",
       " Row(col=' Home Services', coll='Home Services'),\n",
       " Row(col=' Kitchen & Bath', coll='Kitchen & Bath')]"
      ]
     },
     "execution_count": 128,
     "metadata": {},
     "output_type": "execute_result"
    }
   ],
   "source": [
    "df_expl_strip_cats.head(20)"
   ]
  },
  {
   "cell_type": "code",
   "execution_count": 135,
   "metadata": {},
   "outputs": [],
   "source": [
    "from pyspark.sql.functions import desc\n",
    "df_grouped_cats = df_expl_strip_cats.groupby('coll').agg({'coll':'count'}).sort(desc('count(coll)'))"
   ]
  },
  {
   "cell_type": "code",
   "execution_count": 136,
   "metadata": {},
   "outputs": [
    {
     "name": "stdout",
     "output_type": "stream",
     "text": [
      "+--------------------+-----------+\n",
      "|                coll|count(coll)|\n",
      "+--------------------+-----------+\n",
      "|         Restaurants|      59371|\n",
      "|            Shopping|      31878|\n",
      "|                Food|      29989|\n",
      "|       Home Services|      19729|\n",
      "|       Beauty & Spas|      19370|\n",
      "|    Health & Medical|      17171|\n",
      "|      Local Services|      13932|\n",
      "|          Automotive|      13203|\n",
      "|           Nightlife|      13095|\n",
      "|                Bars|      11341|\n",
      "|Event Planning & ...|      10371|\n",
      "|         Active Life|       9521|\n",
      "|             Fashion|       7798|\n",
      "|          Sandwiches|       7332|\n",
      "|        Coffee & Tea|       7321|\n",
      "|           Fast Food|       7257|\n",
      "|American (Traditi...|       7107|\n",
      "|         Hair Salons|       6955|\n",
      "|               Pizza|       6804|\n",
      "|       Home & Garden|       6489|\n",
      "|Arts & Entertainment|       6304|\n",
      "|Professional Serv...|       6276|\n",
      "|         Auto Repair|       6140|\n",
      "|     Hotels & Travel|       6033|\n",
      "|             Doctors|       5867|\n",
      "|         Real Estate|       5677|\n",
      "|             Burgers|       5404|\n",
      "|  Breakfast & Brunch|       5381|\n",
      "|         Nail Salons|       5043|\n",
      "|      Specialty Food|       4883|\n",
      "|      American (New)|       4882|\n",
      "|             Italian|       4716|\n",
      "|Fitness & Instruc...|       4646|\n",
      "|             Mexican|       4618|\n",
      "|             Chinese|       4428|\n",
      "|                Pets|       4111|\n",
      "|        Hair Removal|       4002|\n",
      "|            Bakeries|       3711|\n",
      "|             Grocery|       3609|\n",
      "|            Dentists|       3540|\n",
      "|           Skin Care|       3403|\n",
      "|            Desserts|       3332|\n",
      "|           Education|       3314|\n",
      "|               Cafes|       3232|\n",
      "|         Contractors|       3151|\n",
      "|  Financial Services|       3082|\n",
      "|    Women's Clothing|       2983|\n",
      "|        Pet Services|       2850|\n",
      "|   General Dentistry|       2768|\n",
      "|Ice Cream & Froze...|       2764|\n",
      "|            Day Spas|       2742|\n",
      "|             Massage|       2733|\n",
      "|            Japanese|       2716|\n",
      "|       Chicken Wings|       2705|\n",
      "|              Hotels|       2625|\n",
      "|          Apartments|       2576|\n",
      "|               Salad|       2531|\n",
      "|            Caterers|       2525|\n",
      "|             Seafood|       2508|\n",
      "|              Waxing|       2389|\n",
      "|               Tires|       2337|\n",
      "|                Gyms|       2316|\n",
      "|          Sushi Bars|       2258|\n",
      "|                Beer|       2255|\n",
      "|      Wine & Spirits|       2255|\n",
      "|Venues & Event Sp...|       2223|\n",
      "|         Accessories|       2214|\n",
      "| Oil Change Stations|       2191|\n",
      "|         Sports Bars|       2184|\n",
      "|     Flowers & Gifts|       2180|\n",
      "|      Sporting Goods|       2165|\n",
      "|Cosmetics & Beaut...|       2148|\n",
      "|          Home Decor|       2125|\n",
      "|                Pubs|       2077|\n",
      "|         Car Dealers|       2062|\n",
      "|   Cosmetic Dentists|       2058|\n",
      "|Auto Parts & Supp...|       2023|\n",
      "|             Barbers|       2010|\n",
      "|       Hair Stylists|       1960|\n",
      "|               Delis|       1955|\n",
      "|        Asian Fusion|       1953|\n",
      "|    Furniture Stores|       1947|\n",
      "|            Trainers|       1944|\n",
      "|      Canadian (New)|       1909|\n",
      "|  Convenience Stores|       1867|\n",
      "|     Eyelash Service|       1856|\n",
      "|       Mediterranean|       1834|\n",
      "|      Men's Clothing|       1832|\n",
      "|            Barbeque|       1814|\n",
      "|       Arts & Crafts|       1793|\n",
      "|     Medical Centers|       1781|\n",
      "|     Massage Therapy|       1754|\n",
      "|             Jewelry|       1750|\n",
      "|Juice Bars & Smoo...|       1723|\n",
      "|          Drugstores|       1684|\n",
      "|             Lounges|       1648|\n",
      "|   Department Stores|       1642|\n",
      "|         Electronics|       1629|\n",
      "|        Gas Stations|       1617|\n",
      "|         Steakhouses|       1603|\n",
      "+--------------------+-----------+\n",
      "only showing top 100 rows\n",
      "\n"
     ]
    }
   ],
   "source": [
    "df_grouped_cats.show(100)"
   ]
  },
  {
   "cell_type": "code",
   "execution_count": 139,
   "metadata": {},
   "outputs": [],
   "source": [
    "df_restaurants = df_business.where(df_business.categories.contains('Restaurants'))"
   ]
  },
  {
   "cell_type": "code",
   "execution_count": 141,
   "metadata": {},
   "outputs": [],
   "source": [
    "df_restaurants_count= df_restaurants.count()"
   ]
  },
  {
   "cell_type": "code",
   "execution_count": 142,
   "metadata": {},
   "outputs": [
    {
     "data": {
      "text/plain": [
       "59371"
      ]
     },
     "execution_count": 142,
     "metadata": {},
     "output_type": "execute_result"
    }
   ],
   "source": [
    "df_restaurants_count"
   ]
  },
  {
   "cell_type": "code",
   "execution_count": null,
   "metadata": {},
   "outputs": [],
   "source": []
  }
 ],
 "metadata": {
  "kernelspec": {
   "display_name": "Python 3",
   "language": "python",
   "name": "python3"
  },
  "language_info": {
   "codemirror_mode": {
    "name": "ipython",
    "version": 3
   },
   "file_extension": ".py",
   "mimetype": "text/x-python",
   "name": "python",
   "nbconvert_exporter": "python",
   "pygments_lexer": "ipython3",
   "version": "3.7.3"
  }
 },
 "nbformat": 4,
 "nbformat_minor": 2
}
